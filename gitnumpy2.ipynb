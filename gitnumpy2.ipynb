{
 "cells": [
  {
   "cell_type": "markdown",
   "id": "b2d5ac89",
   "metadata": {},
   "source": [
    "### iterating an array"
   ]
  },
  {
   "cell_type": "code",
   "execution_count": 2,
   "id": "e490c08a",
   "metadata": {},
   "outputs": [
    {
     "name": "stdout",
     "output_type": "stream",
     "text": [
      "[1 2 3 4 5]\n"
     ]
    }
   ],
   "source": [
    "import numpy as np\n",
    "a=np.array([1,2,3,4,5])\n",
    "print(a)"
   ]
  },
  {
   "cell_type": "code",
   "execution_count": 3,
   "id": "1325c500",
   "metadata": {},
   "outputs": [
    {
     "name": "stdout",
     "output_type": "stream",
     "text": [
      "1\n",
      "2\n",
      "3\n",
      "4\n",
      "5\n"
     ]
    }
   ],
   "source": [
    "for i in a:\n",
    "    print(i)"
   ]
  },
  {
   "cell_type": "code",
   "execution_count": 6,
   "id": "26bb2ba1",
   "metadata": {},
   "outputs": [
    {
     "name": "stdout",
     "output_type": "stream",
     "text": [
      "[[1 2 3]\n",
      " [4 5 6]\n",
      " [7 8 9]]\n"
     ]
    }
   ],
   "source": [
    "b=np.arange(1,10).reshape(3,3)\n",
    "print(b)"
   ]
  },
  {
   "cell_type": "code",
   "execution_count": 9,
   "id": "57462d44",
   "metadata": {},
   "outputs": [
    {
     "name": "stdout",
     "output_type": "stream",
     "text": [
      "1\n",
      "2\n",
      "3\n",
      "4\n",
      "5\n",
      "6\n",
      "7\n",
      "8\n",
      "9\n"
     ]
    }
   ],
   "source": [
    "for x in b:\n",
    "    for y in x:\n",
    "        print(y)"
   ]
  },
  {
   "cell_type": "code",
   "execution_count": 11,
   "id": "19892659",
   "metadata": {},
   "outputs": [
    {
     "name": "stdout",
     "output_type": "stream",
     "text": [
      "[[1 2 3]\n",
      " [4 5 6]]\n"
     ]
    }
   ],
   "source": [
    "arr=np.array([[1,2,3],[4,5,6]])\n",
    "print(arr)"
   ]
  },
  {
   "cell_type": "code",
   "execution_count": 13,
   "id": "65dfed97",
   "metadata": {},
   "outputs": [
    {
     "name": "stdout",
     "output_type": "stream",
     "text": [
      "1\n",
      "2\n",
      "3\n",
      "4\n",
      "5\n",
      "6\n"
     ]
    }
   ],
   "source": [
    "for x in arr:\n",
    "    for y in x:\n",
    "        print(y)"
   ]
  },
  {
   "cell_type": "code",
   "execution_count": 18,
   "id": "d5233821",
   "metadata": {},
   "outputs": [
    {
     "name": "stdout",
     "output_type": "stream",
     "text": [
      "[[[ 0  1]\n",
      "  [ 2  3]]\n",
      "\n",
      " [[ 4  5]\n",
      "  [ 6  7]]\n",
      "\n",
      " [[ 8  9]\n",
      "  [10 11]]]\n"
     ]
    }
   ],
   "source": [
    "#iterating with 3-D array\n",
    "a=np.arange(0,12).reshape(3,2,2)\n",
    "print(a)"
   ]
  },
  {
   "cell_type": "code",
   "execution_count": 38,
   "id": "3ce0b0b4",
   "metadata": {},
   "outputs": [
    {
     "data": {
      "text/plain": [
       "array([[4., 5.],\n",
       "       [6., 7.]])"
      ]
     },
     "execution_count": 38,
     "metadata": {},
     "output_type": "execute_result"
    }
   ],
   "source": [
    "np.apply_along_axis(np.mean,axis=0,arr=a)"
   ]
  },
  {
   "cell_type": "code",
   "execution_count": 39,
   "id": "02686fd3",
   "metadata": {},
   "outputs": [
    {
     "data": {
      "text/plain": [
       "array([[ 1.,  2.],\n",
       "       [ 5.,  6.],\n",
       "       [ 9., 10.]])"
      ]
     },
     "execution_count": 39,
     "metadata": {},
     "output_type": "execute_result"
    }
   ],
   "source": [
    "np.apply_along_axis(np.mean,axis=1,arr=a)"
   ]
  },
  {
   "cell_type": "code",
   "execution_count": 19,
   "id": "ab84fb67",
   "metadata": {},
   "outputs": [
    {
     "name": "stdout",
     "output_type": "stream",
     "text": [
      "0\n",
      "1\n",
      "2\n",
      "3\n",
      "4\n",
      "5\n",
      "6\n",
      "7\n",
      "8\n",
      "9\n",
      "10\n",
      "11\n"
     ]
    }
   ],
   "source": [
    "for x in a:\n",
    "    for y in x:\n",
    "        for z in y:\n",
    "            print(z)"
   ]
  },
  {
   "cell_type": "code",
   "execution_count": 31,
   "id": "34d52a61",
   "metadata": {},
   "outputs": [
    {
     "name": "stdout",
     "output_type": "stream",
     "text": [
      "[[10 11 12]\n",
      " [13 14 15]\n",
      " [16 17 18]]\n"
     ]
    }
   ],
   "source": [
    "A=np.arange(10,19).reshape((3,3))\n",
    "print(A)"
   ]
  },
  {
   "cell_type": "code",
   "execution_count": 32,
   "id": "d20b6a21",
   "metadata": {},
   "outputs": [],
   "source": [
    "def foo(x):\n",
    "    return x/2"
   ]
  },
  {
   "cell_type": "code",
   "execution_count": 33,
   "id": "58748be0",
   "metadata": {},
   "outputs": [
    {
     "data": {
      "text/plain": [
       "array([[5. , 5.5, 6. ],\n",
       "       [6.5, 7. , 7.5],\n",
       "       [8. , 8.5, 9. ]])"
      ]
     },
     "execution_count": 33,
     "metadata": {},
     "output_type": "execute_result"
    }
   ],
   "source": [
    "np.apply_along_axis(foo,axis=0,arr=A)"
   ]
  },
  {
   "cell_type": "code",
   "execution_count": 37,
   "id": "3538d117",
   "metadata": {},
   "outputs": [
    {
     "data": {
      "text/plain": [
       "array([11., 14., 17.])"
      ]
     },
     "execution_count": 37,
     "metadata": {},
     "output_type": "execute_result"
    }
   ],
   "source": [
    "np.apply_along_axis(np.mean,axis=1,arr=A)"
   ]
  },
  {
   "cell_type": "code",
   "execution_count": 40,
   "id": "dcbbd6f0",
   "metadata": {},
   "outputs": [
    {
     "name": "stdout",
     "output_type": "stream",
     "text": [
      "[[0.99152642 0.98806343 0.67846707 0.92354584]\n",
      " [0.89003973 0.30114925 0.57578871 0.04864797]\n",
      " [0.77455907 0.68922232 0.82285681 0.06820559]\n",
      " [0.81102442 0.56941098 0.62734011 0.48927491]]\n"
     ]
    }
   ],
   "source": [
    "# using boolean operators for extracting elements\n",
    "A=np.random.random((4,4))\n",
    "print(A)"
   ]
  },
  {
   "cell_type": "code",
   "execution_count": 41,
   "id": "9b2ea598",
   "metadata": {},
   "outputs": [
    {
     "data": {
      "text/plain": [
       "array([[False, False, False, False],\n",
       "       [False,  True, False,  True],\n",
       "       [False, False, False,  True],\n",
       "       [False, False, False,  True]])"
      ]
     },
     "execution_count": 41,
     "metadata": {},
     "output_type": "execute_result"
    }
   ],
   "source": [
    "A<0.5"
   ]
  },
  {
   "cell_type": "code",
   "execution_count": 42,
   "id": "bbcbddd4",
   "metadata": {},
   "outputs": [
    {
     "data": {
      "text/plain": [
       "array([0.30114925, 0.04864797, 0.06820559, 0.48927491])"
      ]
     },
     "execution_count": 42,
     "metadata": {},
     "output_type": "execute_result"
    }
   ],
   "source": [
    "A[A<0.5]"
   ]
  },
  {
   "cell_type": "code",
   "execution_count": 43,
   "id": "c01cad26",
   "metadata": {},
   "outputs": [
    {
     "name": "stdout",
     "output_type": "stream",
     "text": [
      "[0.43616604 0.63618975 0.3789309  0.67629827 0.99227291 0.33420921\n",
      " 0.85006832 0.80130666 0.93636492 0.17922826 0.6765524  0.33935619]\n"
     ]
    }
   ],
   "source": [
    "# shape manipulation\n",
    "A=np.random.random(12)\n",
    "print(A)"
   ]
  },
  {
   "cell_type": "code",
   "execution_count": 45,
   "id": "cf1b9ca0",
   "metadata": {},
   "outputs": [
    {
     "name": "stdout",
     "output_type": "stream",
     "text": [
      "[[0.43616604 0.63618975 0.3789309  0.67629827]\n",
      " [0.99227291 0.33420921 0.85006832 0.80130666]\n",
      " [0.93636492 0.17922826 0.6765524  0.33935619]]\n"
     ]
    }
   ],
   "source": [
    "b=A.reshape(3,4)\n",
    "print(b)"
   ]
  },
  {
   "cell_type": "code",
   "execution_count": 46,
   "id": "f13447f4",
   "metadata": {},
   "outputs": [
    {
     "name": "stdout",
     "output_type": "stream",
     "text": [
      "[0.43616604 0.63618975 0.3789309  0.67629827 0.99227291 0.33420921\n",
      " 0.85006832 0.80130666 0.93636492 0.17922826 0.6765524  0.33935619]\n"
     ]
    }
   ],
   "source": [
    "#converting to 1-D dimensional using raval()\n",
    "b=b.ravel()\n",
    "print(b)"
   ]
  },
  {
   "cell_type": "code",
   "execution_count": null,
   "id": "cbc26856",
   "metadata": {},
   "outputs": [],
   "source": []
  }
 ],
 "metadata": {
  "kernelspec": {
   "display_name": "Python 3 (ipykernel)",
   "language": "python",
   "name": "python3"
  },
  "language_info": {
   "codemirror_mode": {
    "name": "ipython",
    "version": 3
   },
   "file_extension": ".py",
   "mimetype": "text/x-python",
   "name": "python",
   "nbconvert_exporter": "python",
   "pygments_lexer": "ipython3",
   "version": "3.9.7"
  }
 },
 "nbformat": 4,
 "nbformat_minor": 5
}
