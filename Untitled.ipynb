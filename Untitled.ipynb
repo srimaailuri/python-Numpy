{
 "cells": [
  {
   "cell_type": "code",
   "execution_count": 2,
   "id": "e8da08f3",
   "metadata": {},
   "outputs": [],
   "source": [
    "import pandas as pd"
   ]
  },
  {
   "cell_type": "code",
   "execution_count": 3,
   "id": "91b4fcfb",
   "metadata": {},
   "outputs": [
    {
     "data": {
      "text/html": [
       "<div>\n",
       "<style scoped>\n",
       "    .dataframe tbody tr th:only-of-type {\n",
       "        vertical-align: middle;\n",
       "    }\n",
       "\n",
       "    .dataframe tbody tr th {\n",
       "        vertical-align: top;\n",
       "    }\n",
       "\n",
       "    .dataframe thead th {\n",
       "        text-align: right;\n",
       "    }\n",
       "</style>\n",
       "<table border=\"1\" class=\"dataframe\">\n",
       "  <thead>\n",
       "    <tr style=\"text-align: right;\">\n",
       "      <th></th>\n",
       "      <th>0</th>\n",
       "      <th>1</th>\n",
       "      <th>2</th>\n",
       "      <th>3</th>\n",
       "      <th>4</th>\n",
       "    </tr>\n",
       "  </thead>\n",
       "  <tbody>\n",
       "    <tr>\n",
       "      <th>0</th>\n",
       "      <td>1</td>\n",
       "      <td>5</td>\n",
       "      <td>2</td>\n",
       "      <td>3</td>\n",
       "      <td>cat</td>\n",
       "    </tr>\n",
       "    <tr>\n",
       "      <th>1</th>\n",
       "      <td>2</td>\n",
       "      <td>7</td>\n",
       "      <td>8</td>\n",
       "      <td>5</td>\n",
       "      <td>dog</td>\n",
       "    </tr>\n",
       "  </tbody>\n",
       "</table>\n",
       "</div>"
      ],
      "text/plain": [
       "   0  1  2  3     4\n",
       "0  1  5  2  3   cat\n",
       "1  2  7  8  5   dog"
      ]
     },
     "execution_count": 3,
     "metadata": {},
     "output_type": "execute_result"
    }
   ],
   "source": [
    "\n",
    "a=pd.read_csv(\"kar.csv\",header=None)\n",
    "a"
   ]
  },
  {
   "cell_type": "code",
   "execution_count": 4,
   "id": "4aff5e71",
   "metadata": {},
   "outputs": [
    {
     "name": "stdout",
     "output_type": "stream",
     "text": [
      "1, 5, 2, 3, cat\n",
      "2, 7, 8, 5,dog\n"
     ]
    }
   ],
   "source": [
    "f=open(\"kar.csv\",\"r\")\n",
    "print(f.read())"
   ]
  },
  {
   "cell_type": "code",
   "execution_count": 5,
   "id": "da5db9c3",
   "metadata": {},
   "outputs": [],
   "source": [
    "d=pd.DataFrame({'regno.':[\"225\",\"211\",\"249\",\"236\"],'name':[\"srima\",\"hyma\",\"jhansi\",\"Akshaya\"]})"
   ]
  },
  {
   "cell_type": "code",
   "execution_count": 6,
   "id": "d9e05b0d",
   "metadata": {},
   "outputs": [
    {
     "data": {
      "text/html": [
       "<div>\n",
       "<style scoped>\n",
       "    .dataframe tbody tr th:only-of-type {\n",
       "        vertical-align: middle;\n",
       "    }\n",
       "\n",
       "    .dataframe tbody tr th {\n",
       "        vertical-align: top;\n",
       "    }\n",
       "\n",
       "    .dataframe thead th {\n",
       "        text-align: right;\n",
       "    }\n",
       "</style>\n",
       "<table border=\"1\" class=\"dataframe\">\n",
       "  <thead>\n",
       "    <tr style=\"text-align: right;\">\n",
       "      <th></th>\n",
       "      <th>regno.</th>\n",
       "      <th>name</th>\n",
       "    </tr>\n",
       "  </thead>\n",
       "  <tbody>\n",
       "    <tr>\n",
       "      <th>0</th>\n",
       "      <td>225</td>\n",
       "      <td>srima</td>\n",
       "    </tr>\n",
       "    <tr>\n",
       "      <th>1</th>\n",
       "      <td>211</td>\n",
       "      <td>hyma</td>\n",
       "    </tr>\n",
       "    <tr>\n",
       "      <th>2</th>\n",
       "      <td>249</td>\n",
       "      <td>jhansi</td>\n",
       "    </tr>\n",
       "    <tr>\n",
       "      <th>3</th>\n",
       "      <td>236</td>\n",
       "      <td>Akshaya</td>\n",
       "    </tr>\n",
       "  </tbody>\n",
       "</table>\n",
       "</div>"
      ],
      "text/plain": [
       "  regno.     name\n",
       "0    225    srima\n",
       "1    211     hyma\n",
       "2    249   jhansi\n",
       "3    236  Akshaya"
      ]
     },
     "execution_count": 6,
     "metadata": {},
     "output_type": "execute_result"
    }
   ],
   "source": [
    "d"
   ]
  },
  {
   "cell_type": "code",
   "execution_count": 20,
   "id": "9406a043",
   "metadata": {},
   "outputs": [
    {
     "name": "stdout",
     "output_type": "stream",
     "text": [
      "   blue  white  red   toys\n",
      "0     2      3    6  horse\n",
      "1     3      2    8   duck\n",
      "2     1      4    2  mouse\n"
     ]
    }
   ],
   "source": [
    "a={'blue':[2,3,1],'white':[3,2,4],'red':[6,8,2],'toys':['horse','duck','mouse']}\n",
    "df=pd.DataFrame(a)\n",
    "print(df)\n",
    "df.to_csv('toys.txt')"
   ]
  },
  {
   "cell_type": "code",
   "execution_count": 22,
   "id": "912a3d21",
   "metadata": {},
   "outputs": [
    {
     "data": {
      "text/html": [
       "<div>\n",
       "<style scoped>\n",
       "    .dataframe tbody tr th:only-of-type {\n",
       "        vertical-align: middle;\n",
       "    }\n",
       "\n",
       "    .dataframe tbody tr th {\n",
       "        vertical-align: top;\n",
       "    }\n",
       "\n",
       "    .dataframe thead th {\n",
       "        text-align: right;\n",
       "    }\n",
       "</style>\n",
       "<table border=\"1\" class=\"dataframe\">\n",
       "  <thead>\n",
       "    <tr style=\"text-align: right;\">\n",
       "      <th></th>\n",
       "      <th>,blue,white,red,toys</th>\n",
       "    </tr>\n",
       "  </thead>\n",
       "  <tbody>\n",
       "    <tr>\n",
       "      <th>0</th>\n",
       "      <td>0,2,3,6,horse</td>\n",
       "    </tr>\n",
       "    <tr>\n",
       "      <th>1</th>\n",
       "      <td>1,3,2,8,duck</td>\n",
       "    </tr>\n",
       "    <tr>\n",
       "      <th>2</th>\n",
       "      <td>2,1,4,2,mouse</td>\n",
       "    </tr>\n",
       "  </tbody>\n",
       "</table>\n",
       "</div>"
      ],
      "text/plain": [
       "  ,blue,white,red,toys\n",
       "0        0,2,3,6,horse\n",
       "1         1,3,2,8,duck\n",
       "2        2,1,4,2,mouse"
      ]
     },
     "execution_count": 22,
     "metadata": {},
     "output_type": "execute_result"
    }
   ],
   "source": [
    "pd.read_table('toys.txt')"
   ]
  },
  {
   "cell_type": "code",
   "execution_count": 7,
   "id": "92d9d3b2",
   "metadata": {},
   "outputs": [],
   "source": [
    "d.to_csv(\"kar1.csv\")\n"
   ]
  },
  {
   "cell_type": "code",
   "execution_count": 8,
   "id": "63a6d6fc",
   "metadata": {},
   "outputs": [
    {
     "name": "stdout",
     "output_type": "stream",
     "text": [
      "   blue  white  red   toys\n",
      "0     2      3    6  horse\n",
      "1     3      2    8   duck\n",
      "2     1      4    2  mouse\n"
     ]
    }
   ],
   "source": [
    "a={'blue':[2,3,1],'white':[3,2,4],'red':[6,8,2],'toys':['horse','duck','mouse']}\n",
    "df=pd.DataFrame(a)\n",
    "print(df)\n",
    "df.to_json('toys.json')"
   ]
  },
  {
   "cell_type": "code",
   "execution_count": 9,
   "id": "ece444e3",
   "metadata": {},
   "outputs": [
    {
     "data": {
      "text/html": [
       "<div>\n",
       "<style scoped>\n",
       "    .dataframe tbody tr th:only-of-type {\n",
       "        vertical-align: middle;\n",
       "    }\n",
       "\n",
       "    .dataframe tbody tr th {\n",
       "        vertical-align: top;\n",
       "    }\n",
       "\n",
       "    .dataframe thead th {\n",
       "        text-align: right;\n",
       "    }\n",
       "</style>\n",
       "<table border=\"1\" class=\"dataframe\">\n",
       "  <thead>\n",
       "    <tr style=\"text-align: right;\">\n",
       "      <th></th>\n",
       "      <th>blue</th>\n",
       "      <th>white</th>\n",
       "      <th>red</th>\n",
       "      <th>toys</th>\n",
       "    </tr>\n",
       "  </thead>\n",
       "  <tbody>\n",
       "    <tr>\n",
       "      <th>0</th>\n",
       "      <td>2</td>\n",
       "      <td>3</td>\n",
       "      <td>6</td>\n",
       "      <td>horse</td>\n",
       "    </tr>\n",
       "    <tr>\n",
       "      <th>1</th>\n",
       "      <td>3</td>\n",
       "      <td>2</td>\n",
       "      <td>8</td>\n",
       "      <td>duck</td>\n",
       "    </tr>\n",
       "    <tr>\n",
       "      <th>2</th>\n",
       "      <td>1</td>\n",
       "      <td>4</td>\n",
       "      <td>2</td>\n",
       "      <td>mouse</td>\n",
       "    </tr>\n",
       "  </tbody>\n",
       "</table>\n",
       "</div>"
      ],
      "text/plain": [
       "   blue  white  red   toys\n",
       "0     2      3    6  horse\n",
       "1     3      2    8   duck\n",
       "2     1      4    2  mouse"
      ]
     },
     "execution_count": 9,
     "metadata": {},
     "output_type": "execute_result"
    }
   ],
   "source": [
    "pd.read_json('toys.json')"
   ]
  },
  {
   "cell_type": "code",
   "execution_count": 11,
   "id": "9144d302",
   "metadata": {},
   "outputs": [
    {
     "name": "stdout",
     "output_type": "stream",
     "text": [
      "   blue  white  red   toys\n",
      "0     2      3    6  horse\n",
      "1     3      2    8   duck\n",
      "2     1      4    2  mouse\n"
     ]
    }
   ],
   "source": [
    "a={'blue':[2,3,1],'white':[3,2,4],'red':[6,8,2],'toys':['horse','duck','mouse']}\n",
    "df=pd.DataFrame(a)\n",
    "print(df)\n",
    "df.to_excel('toys.xlsx')"
   ]
  },
  {
   "cell_type": "code",
   "execution_count": 12,
   "id": "6b996a55",
   "metadata": {},
   "outputs": [
    {
     "data": {
      "text/html": [
       "<div>\n",
       "<style scoped>\n",
       "    .dataframe tbody tr th:only-of-type {\n",
       "        vertical-align: middle;\n",
       "    }\n",
       "\n",
       "    .dataframe tbody tr th {\n",
       "        vertical-align: top;\n",
       "    }\n",
       "\n",
       "    .dataframe thead th {\n",
       "        text-align: right;\n",
       "    }\n",
       "</style>\n",
       "<table border=\"1\" class=\"dataframe\">\n",
       "  <thead>\n",
       "    <tr style=\"text-align: right;\">\n",
       "      <th></th>\n",
       "      <th>Unnamed: 0</th>\n",
       "      <th>blue</th>\n",
       "      <th>white</th>\n",
       "      <th>red</th>\n",
       "      <th>toys</th>\n",
       "    </tr>\n",
       "  </thead>\n",
       "  <tbody>\n",
       "    <tr>\n",
       "      <th>0</th>\n",
       "      <td>0</td>\n",
       "      <td>2</td>\n",
       "      <td>3</td>\n",
       "      <td>6</td>\n",
       "      <td>horse</td>\n",
       "    </tr>\n",
       "    <tr>\n",
       "      <th>1</th>\n",
       "      <td>1</td>\n",
       "      <td>3</td>\n",
       "      <td>2</td>\n",
       "      <td>8</td>\n",
       "      <td>duck</td>\n",
       "    </tr>\n",
       "    <tr>\n",
       "      <th>2</th>\n",
       "      <td>2</td>\n",
       "      <td>1</td>\n",
       "      <td>4</td>\n",
       "      <td>2</td>\n",
       "      <td>mouse</td>\n",
       "    </tr>\n",
       "  </tbody>\n",
       "</table>\n",
       "</div>"
      ],
      "text/plain": [
       "   Unnamed: 0  blue  white  red   toys\n",
       "0           0     2      3    6  horse\n",
       "1           1     3      2    8   duck\n",
       "2           2     1      4    2  mouse"
      ]
     },
     "execution_count": 12,
     "metadata": {},
     "output_type": "execute_result"
    }
   ],
   "source": [
    "pd.read_excel('toys.xlsx')"
   ]
  },
  {
   "cell_type": "code",
   "execution_count": 13,
   "id": "ea01be2b",
   "metadata": {},
   "outputs": [
    {
     "name": "stdout",
     "output_type": "stream",
     "text": [
      "   blue  white  red   toys\n",
      "0     2      3    6  horse\n",
      "1     3      2    8   duck\n",
      "2     1      4    2  mouse\n"
     ]
    }
   ],
   "source": [
    "a={'blue':[2,3,1],'white':[3,2,4],'red':[6,8,2],'toys':['horse','duck','mouse']}\n",
    "df=pd.DataFrame(a)\n",
    "print(df)\n",
    "df.to_html('toys.html')"
   ]
  },
  {
   "cell_type": "code",
   "execution_count": 14,
   "id": "76f34b9d",
   "metadata": {},
   "outputs": [
    {
     "data": {
      "text/plain": [
       "[   Unnamed: 0  blue  white  red   toys\n",
       " 0           0     2      3    6  horse\n",
       " 1           1     3      2    8   duck\n",
       " 2           2     1      4    2  mouse]"
      ]
     },
     "execution_count": 14,
     "metadata": {},
     "output_type": "execute_result"
    }
   ],
   "source": [
    "pd.read_html('toys.html')"
   ]
  },
  {
   "cell_type": "code",
   "execution_count": 13,
   "id": "1913a6a5",
   "metadata": {},
   "outputs": [
    {
     "name": "stdout",
     "output_type": "stream",
     "text": [
      "   blue  white  red   toys\n",
      "0     2      3    6  horse\n",
      "1     3      2    8   duck\n",
      "2     1      4    2  mouse\n"
     ]
    }
   ],
   "source": [
    "a={'blue':[2,3,1],'white':[3,2,4],'red':[6,8,2],'toys':['horse','duck','mouse']}\n",
    "df=pd.DataFrame(a)\n",
    "print(df)\n",
    "df.to_html('toys.xml')"
   ]
  },
  {
   "cell_type": "code",
   "execution_count": 19,
   "id": "02468158",
   "metadata": {},
   "outputs": [
    {
     "name": "stdout",
     "output_type": "stream",
     "text": [
      "   white   red  blue   animal\n",
      "0       1    2      5     pig\n",
      "1       8    4      7  donkey\n",
      "2       2    4      6     dog\n",
      "      name  reg          ph\n",
      "0  karthik  237   911******\n",
      "1    srima  225  949*******\n",
      "2  akshaya  236   80*******\n"
     ]
    }
   ],
   "source": [
    "df1=pd.read_excel('Book1.xlsx',sheet_name=0)\n",
    "df2=pd.read_excel('Book1.xlsx',sheet_name=1)\n",
    "print(df1)\n",
    "print(df2)"
   ]
  },
  {
   "cell_type": "code",
   "execution_count": 27,
   "id": "22b14a38",
   "metadata": {},
   "outputs": [],
   "source": [
    "from lxml import objectify"
   ]
  },
  {
   "cell_type": "code",
   "execution_count": 29,
   "id": "b9239c6e",
   "metadata": {},
   "outputs": [
    {
     "data": {
      "text/plain": [
       "<lxml.etree._ElementTree at 0x2161154a800>"
      ]
     },
     "execution_count": 29,
     "metadata": {},
     "output_type": "execute_result"
    }
   ],
   "source": [
    "xml=objectify.parse('fgt.xml')\n",
    "xml"
   ]
  },
  {
   "cell_type": "code",
   "execution_count": null,
   "id": "398636b4",
   "metadata": {},
   "outputs": [],
   "source": []
  },
  {
   "cell_type": "code",
   "execution_count": null,
   "id": "69b0abf5",
   "metadata": {},
   "outputs": [],
   "source": []
  }
 ],
 "metadata": {
  "kernelspec": {
   "display_name": "Python 3 (ipykernel)",
   "language": "python",
   "name": "python3"
  },
  "language_info": {
   "codemirror_mode": {
    "name": "ipython",
    "version": 3
   },
   "file_extension": ".py",
   "mimetype": "text/x-python",
   "name": "python",
   "nbconvert_exporter": "python",
   "pygments_lexer": "ipython3",
   "version": "3.9.7"
  }
 },
 "nbformat": 4,
 "nbformat_minor": 5
}
